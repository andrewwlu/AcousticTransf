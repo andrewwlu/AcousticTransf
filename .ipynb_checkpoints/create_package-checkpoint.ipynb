{
 "cells": [
  {
   "cell_type": "code",
   "execution_count": 15,
   "id": "ba0c61be-6e4a-49e1-a4f5-69bf9c8b378d",
   "metadata": {},
   "outputs": [],
   "source": [
    "# devtools::create(\"AcousticTransf\")\n",
    "# use_git()"
   ]
  },
  {
   "cell_type": "code",
   "execution_count": null,
   "id": "433abf8a-feec-4b86-86f3-ff6cdcdd1122",
   "metadata": {},
   "outputs": [],
   "source": [
    "library(devtools)"
   ]
  },
  {
   "cell_type": "code",
   "execution_count": 2,
   "id": "9d5443d7-a3e2-4092-8014-9dbf77176119",
   "metadata": {},
   "outputs": [
    {
     "data": {
      "text/html": [
       "'/Users/andrewlu/Dropbox/Documents/Labowitz/Scripts/AcousticTransf'"
      ],
      "text/latex": [
       "'/Users/andrewlu/Dropbox/Documents/Labowitz/Scripts/AcousticTransf'"
      ],
      "text/markdown": [
       "'/Users/andrewlu/Dropbox/Documents/Labowitz/Scripts/AcousticTransf'"
      ],
      "text/plain": [
       "[1] \"/Users/andrewlu/Dropbox/Documents/Labowitz/Scripts/AcousticTransf\""
      ]
     },
     "metadata": {},
     "output_type": "display_data"
    }
   ],
   "source": [
    "getwd()"
   ]
  },
  {
   "cell_type": "code",
   "execution_count": 24,
   "id": "ad5fa888-307d-4484-92c6-8969c66cdc91",
   "metadata": {},
   "outputs": [
    {
     "name": "stderr",
     "output_type": "stream",
     "text": [
      "\u001b[1m\u001b[22m\u001b[36mℹ\u001b[39m Updating \u001b[34mAcousticTransf\u001b[39m documentation\n",
      "\u001b[1m\u001b[22m\u001b[36mℹ\u001b[39m Loading \u001b[34mAcousticTransf\u001b[39m\n"
     ]
    }
   ],
   "source": [
    "devtools::document()"
   ]
  },
  {
   "cell_type": "code",
   "execution_count": 25,
   "id": "72dd1cee-df03-428f-829b-0b368e2e502c",
   "metadata": {},
   "outputs": [
    {
     "name": "stderr",
     "output_type": "stream",
     "text": [
      "\u001b[1m\u001b[22m\u001b[36mℹ\u001b[39m Loading \u001b[34mAcousticTransf\u001b[39m\n"
     ]
    }
   ],
   "source": [
    "devtools::load_all()"
   ]
  },
  {
   "cell_type": "code",
   "execution_count": 26,
   "id": "7d0083de-6786-4cbd-a3db-22e9a9d58403",
   "metadata": {},
   "outputs": [
    {
     "name": "stderr",
     "output_type": "stream",
     "text": [
      "\u001b[1m\u001b[22mNew names:\n",
      "\u001b[36m•\u001b[39m `` -> `...5`\n",
      "\u001b[36m•\u001b[39m `` -> `...6`\n",
      "\u001b[36m•\u001b[39m `` -> `...7`\n"
     ]
    },
    {
     "name": "stdout",
     "output_type": "stream",
     "text": [
      "\u001b[90m# A tibble: 4 × 3\u001b[39m\n",
      "  dna_id   dna_desc                   total_ul\n",
      "  \u001b[3m\u001b[90m<chr>\u001b[39m\u001b[23m    \u001b[3m\u001b[90m<chr>\u001b[39m\u001b[23m                         \u001b[3m\u001b[90m<dbl>\u001b[39m\u001b[23m\n",
      "\u001b[90m1\u001b[39m pZAG0550 IVT_deadTVMVP_T2A_halo          1.6\n",
      "\u001b[90m2\u001b[39m pZAG0543 IVT_teD_citrine_T2A_mRuby3      0.8\n",
      "\u001b[90m3\u001b[39m pZAG0559 deadTEVP_mTagBFP2               0.6\n",
      "\u001b[90m4\u001b[39m pZAG0560 TEVP_mTagBFP2                   0.4\n"
     ]
    }
   ],
   "source": [
    "checkDNAvol(\"/Users/andrewlu/Dropbox/Documents/Labowitz/Scripts/AcousticTransf/Deprecated/old code/notebook/10-4-2022-pilot/input/10-4-2022-ng_input.csv\")"
   ]
  },
  {
   "cell_type": "code",
   "execution_count": null,
   "id": "72958c54-b956-4d6f-80a8-ebc41f04a27b",
   "metadata": {},
   "outputs": [],
   "source": []
  }
 ],
 "metadata": {
  "kernelspec": {
   "display_name": "R",
   "language": "R",
   "name": "ir"
  },
  "language_info": {
   "codemirror_mode": "r",
   "file_extension": ".r",
   "mimetype": "text/x-r-source",
   "name": "R",
   "pygments_lexer": "r",
   "version": "4.1.3"
  }
 },
 "nbformat": 4,
 "nbformat_minor": 5
}
