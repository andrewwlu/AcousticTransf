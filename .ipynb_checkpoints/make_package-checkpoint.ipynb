{
 "cells": [
  {
   "cell_type": "code",
   "execution_count": 1,
   "id": "ba0c61be-6e4a-49e1-a4f5-69bf9c8b378d",
   "metadata": {},
   "outputs": [
    {
     "name": "stderr",
     "output_type": "stream",
     "text": [
      "\u001b[32m✔\u001b[39m Creating \u001b[34m'AcousticTransf/'\u001b[39m\n",
      "\u001b[32m✔\u001b[39m Setting active project to \u001b[34m'/Users/andrewlu/Dropbox/Documents/Labowitz/Scripts/AcousticTransf'\u001b[39m\n",
      "\u001b[32m✔\u001b[39m Creating \u001b[34m'R/'\u001b[39m\n",
      "\u001b[32m✔\u001b[39m Writing \u001b[34m'DESCRIPTION'\u001b[39m\n"
     ]
    },
    {
     "name": "stdout",
     "output_type": "stream",
     "text": [
      "\u001b[34mPackage\u001b[39m: AcousticTransf\n",
      "\u001b[34mTitle\u001b[39m: What the Package Does (One Line, Title Case)\n",
      "\u001b[34mVersion\u001b[39m: 0.0.0.9000\n",
      "\u001b[34mAuthors@R\u001b[39m (parsed):\n",
      "    * First Last <first.last@example.com> [aut, cre] (YOUR-ORCID-ID)\n",
      "\u001b[34mDescription\u001b[39m: What the package does (one paragraph).\n",
      "\u001b[34mLicense\u001b[39m: `use_mit_license()`, `use_gpl3_license()` or friends to\n",
      "    pick a license\n",
      "\u001b[34mEncoding\u001b[39m: UTF-8\n",
      "\u001b[34mRoxygen\u001b[39m: list(markdown = TRUE)\n",
      "\u001b[34mRoxygenNote\u001b[39m: 7.2.1\n"
     ]
    },
    {
     "name": "stderr",
     "output_type": "stream",
     "text": [
      "\u001b[32m✔\u001b[39m Writing \u001b[34m'NAMESPACE'\u001b[39m\n",
      "\u001b[32m✔\u001b[39m Setting active project to \u001b[34m'<no active project>'\u001b[39m\n"
     ]
    }
   ],
   "source": [
    "devtools::create(\"AcousticTransf\")"
   ]
  },
  {
   "cell_type": "code",
   "execution_count": 2,
   "id": "9d5443d7-a3e2-4092-8014-9dbf77176119",
   "metadata": {},
   "outputs": [
    {
     "data": {
      "text/html": [
       "'/Users/andrewlu/Dropbox/Documents/Labowitz/Scripts/AcousticTransf'"
      ],
      "text/latex": [
       "'/Users/andrewlu/Dropbox/Documents/Labowitz/Scripts/AcousticTransf'"
      ],
      "text/markdown": [
       "'/Users/andrewlu/Dropbox/Documents/Labowitz/Scripts/AcousticTransf'"
      ],
      "text/plain": [
       "[1] \"/Users/andrewlu/Dropbox/Documents/Labowitz/Scripts/AcousticTransf\""
      ]
     },
     "metadata": {},
     "output_type": "display_data"
    }
   ],
   "source": [
    "getwd()"
   ]
  },
  {
   "cell_type": "code",
   "execution_count": 4,
   "id": "aa865faf-da15-4341-a57f-807a7b412c78",
   "metadata": {},
   "outputs": [
    {
     "name": "stderr",
     "output_type": "stream",
     "text": [
      "\u001b[32m✔\u001b[39m Setting active project to \u001b[34m'/Users/andrewlu/Dropbox/Documents/Labowitz/Scripts/AcousticTransf'\u001b[39m\n",
      "\u001b[32m✔\u001b[39m Initialising Git repo\n",
      "\u001b[32m✔\u001b[39m Adding \u001b[34m'.Rproj.user'\u001b[39m, \u001b[34m'.Rhistory'\u001b[39m, \u001b[34m'.Rdata'\u001b[39m, \u001b[34m'.httr-oauth'\u001b[39m, \u001b[34m'.DS_Store'\u001b[39m to \u001b[34m'.gitignore'\u001b[39m\n"
     ]
    }
   ],
   "source": [
    "use_git()"
   ]
  },
  {
   "cell_type": "code",
   "execution_count": 3,
   "id": "7afc7bba-188a-4592-88f4-44d840c0d7b1",
   "metadata": {},
   "outputs": [
    {
     "name": "stderr",
     "output_type": "stream",
     "text": [
      "Loading required package: usethis\n",
      "\n"
     ]
    }
   ],
   "source": [
    "library(devtools)"
   ]
  },
  {
   "cell_type": "code",
   "execution_count": null,
   "id": "ad5fa888-307d-4484-92c6-8969c66cdc91",
   "metadata": {},
   "outputs": [],
   "source": []
  }
 ],
 "metadata": {
  "kernelspec": {
   "display_name": "R",
   "language": "R",
   "name": "ir"
  },
  "language_info": {
   "codemirror_mode": "r",
   "file_extension": ".r",
   "mimetype": "text/x-r-source",
   "name": "R",
   "pygments_lexer": "r",
   "version": "4.1.3"
  }
 },
 "nbformat": 4,
 "nbformat_minor": 5
}
