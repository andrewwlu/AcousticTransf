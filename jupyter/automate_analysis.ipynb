{
 "cells": [
  {
   "cell_type": "code",
   "execution_count": null,
   "id": "7681991b-be3a-45e7-80c2-a146a892effa",
   "metadata": {},
   "outputs": [],
   "source": [
    "flow_dir = \"\"\n",
    "has_anot = TRUE\n",
    "anot_dir = NA"
   ]
  },
  {
   "cell_type": "code",
   "execution_count": null,
   "id": "8542fafc-c809-488a-9acb-1666200d1021",
   "metadata": {},
   "outputs": [],
   "source": []
  }
 ],
 "metadata": {
  "kernelspec": {
   "display_name": "R",
   "language": "R",
   "name": "ir"
  },
  "language_info": {
   "codemirror_mode": "r",
   "file_extension": ".r",
   "mimetype": "text/x-r-source",
   "name": "R",
   "pygments_lexer": "r",
   "version": "4.1.3"
  }
 },
 "nbformat": 4,
 "nbformat_minor": 5
}
