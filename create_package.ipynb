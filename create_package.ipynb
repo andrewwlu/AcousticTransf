{
 "cells": [
  {
   "cell_type": "code",
   "execution_count": 1,
   "id": "ba0c61be-6e4a-49e1-a4f5-69bf9c8b378d",
   "metadata": {},
   "outputs": [],
   "source": [
    "# devtools::create(\"AcousticTransf\")\n",
    "# use_git()"
   ]
  },
  {
   "cell_type": "code",
   "execution_count": 2,
   "id": "433abf8a-feec-4b86-86f3-ff6cdcdd1122",
   "metadata": {},
   "outputs": [
    {
     "name": "stderr",
     "output_type": "stream",
     "text": [
      "Loading required package: usethis\n",
      "\n"
     ]
    }
   ],
   "source": [
    "library(devtools)"
   ]
  },
  {
   "cell_type": "code",
   "execution_count": 3,
   "id": "9d5443d7-a3e2-4092-8014-9dbf77176119",
   "metadata": {},
   "outputs": [
    {
     "data": {
      "text/html": [
       "'/Users/andrewlu/Dropbox/Documents/Labowitz/Scripts/AcousticTransf'"
      ],
      "text/latex": [
       "'/Users/andrewlu/Dropbox/Documents/Labowitz/Scripts/AcousticTransf'"
      ],
      "text/markdown": [
       "'/Users/andrewlu/Dropbox/Documents/Labowitz/Scripts/AcousticTransf'"
      ],
      "text/plain": [
       "[1] \"/Users/andrewlu/Dropbox/Documents/Labowitz/Scripts/AcousticTransf\""
      ]
     },
     "metadata": {},
     "output_type": "display_data"
    }
   ],
   "source": [
    "getwd()"
   ]
  },
  {
   "cell_type": "code",
   "execution_count": 4,
   "id": "ad5fa888-307d-4484-92c6-8969c66cdc91",
   "metadata": {},
   "outputs": [
    {
     "name": "stderr",
     "output_type": "stream",
     "text": [
      "\u001b[1m\u001b[22m\u001b[36mℹ\u001b[39m Updating \u001b[34mAcousticTransf\u001b[39m documentation\n",
      "\u001b[1m\u001b[22m\u001b[36mℹ\u001b[39m Loading \u001b[34mAcousticTransf\u001b[39m\n",
      "Loading required package: tidyverse\n",
      "\n",
      "── \u001b[1mAttaching packages\u001b[22m ─────────────────────────────────────── tidyverse 1.3.2 ──\n",
      "\u001b[32m✔\u001b[39m \u001b[34mggplot2\u001b[39m 3.3.6      \u001b[32m✔\u001b[39m \u001b[34mpurrr  \u001b[39m 0.3.5 \n",
      "\u001b[32m✔\u001b[39m \u001b[34mtibble \u001b[39m 3.1.8      \u001b[32m✔\u001b[39m \u001b[34mdplyr  \u001b[39m 1.0.10\n",
      "\u001b[32m✔\u001b[39m \u001b[34mtidyr  \u001b[39m 1.2.1      \u001b[32m✔\u001b[39m \u001b[34mstringr\u001b[39m 1.4.1 \n",
      "\u001b[32m✔\u001b[39m \u001b[34mreadr  \u001b[39m 2.1.3      \u001b[32m✔\u001b[39m \u001b[34mforcats\u001b[39m 0.5.2 \n",
      "── \u001b[1mConflicts\u001b[22m ────────────────────────────────────────── tidyverse_conflicts() ──\n",
      "\u001b[31m✖\u001b[39m \u001b[34mdplyr\u001b[39m::\u001b[32mfilter()\u001b[39m masks \u001b[34mstats\u001b[39m::filter()\n",
      "\u001b[31m✖\u001b[39m \u001b[34mdplyr\u001b[39m::\u001b[32mlag()\u001b[39m    masks \u001b[34mstats\u001b[39m::lag()\n"
     ]
    }
   ],
   "source": [
    "devtools::document()"
   ]
  },
  {
   "cell_type": "code",
   "execution_count": 5,
   "id": "72dd1cee-df03-428f-829b-0b368e2e502c",
   "metadata": {},
   "outputs": [
    {
     "name": "stderr",
     "output_type": "stream",
     "text": [
      "\u001b[1m\u001b[22m\u001b[36mℹ\u001b[39m Loading \u001b[34mAcousticTransf\u001b[39m\n"
     ]
    }
   ],
   "source": [
    "### for testing, just running this loads into environemtn (but will delete when kernel closed)\n",
    "devtools::load_all()"
   ]
  },
  {
   "cell_type": "code",
   "execution_count": null,
   "id": "c982730f-61a9-41f1-95bc-5b0a4a598bb8",
   "metadata": {},
   "outputs": [
    {
     "name": "stdout",
     "output_type": "stream",
     "text": [
      "\n",
      "\u001b[32m✔\u001b[39m  \u001b[90mchecking for file ‘/Users/andrewlu/Dropbox/Documents/Labowitz/Scripts/AcousticTransf/DESCRIPTION’\u001b[39m\u001b[36m\u001b[39m\n",
      "\u001b[90m─\u001b[39m\u001b[90m  \u001b[39m\u001b[90mpreparing ‘AcousticTransf’:\u001b[39m\u001b[36m\u001b[39m\n",
      "\u001b[32m✔\u001b[39m  \u001b[90mchecking DESCRIPTION meta-information\u001b[39m\u001b[36m\u001b[39m\n",
      "\u001b[90m─\u001b[39m\u001b[90m  \u001b[39m\u001b[90mchecking for LF line-endings in source and make files and shell scripts\u001b[39m\u001b[36m\u001b[39m\n",
      "\u001b[90m─\u001b[39m\u001b[90m  \u001b[39m\u001b[90mchecking for empty or unneeded directories\u001b[39m\u001b[36m\u001b[39m\n",
      "\u001b[90m─\u001b[39m\u001b[90m  \u001b[39m\u001b[90mbuilding ‘AcousticTransf_0.0.0.9000.tar.gz’\u001b[39m\u001b[36m\u001b[39m\n",
      "   \n"
     ]
    }
   ],
   "source": [
    "devtools::install()"
   ]
  },
  {
   "cell_type": "code",
   "execution_count": null,
   "id": "25a948c6-7d37-412c-ad87-47d78b33af35",
   "metadata": {},
   "outputs": [],
   "source": []
  }
 ],
 "metadata": {
  "kernelspec": {
   "display_name": "R",
   "language": "R",
   "name": "ir"
  },
  "language_info": {
   "codemirror_mode": "r",
   "file_extension": ".r",
   "mimetype": "text/x-r-source",
   "name": "R",
   "pygments_lexer": "r",
   "version": "4.1.3"
  }
 },
 "nbformat": 4,
 "nbformat_minor": 5
}
