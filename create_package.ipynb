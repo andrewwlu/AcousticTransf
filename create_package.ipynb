{
 "cells": [
  {
   "cell_type": "code",
   "execution_count": null,
   "id": "ba0c61be-6e4a-49e1-a4f5-69bf9c8b378d",
   "metadata": {},
   "outputs": [],
   "source": [
    "# devtools::create(\"AcousticTransf\")\n",
    "# use_git()"
   ]
  },
  {
   "cell_type": "code",
   "execution_count": 1,
   "id": "433abf8a-feec-4b86-86f3-ff6cdcdd1122",
   "metadata": {},
   "outputs": [
    {
     "name": "stderr",
     "output_type": "stream",
     "text": [
      "Loading required package: usethis\n",
      "\n"
     ]
    }
   ],
   "source": [
    "library(devtools)"
   ]
  },
  {
   "cell_type": "code",
   "execution_count": 2,
   "id": "9d5443d7-a3e2-4092-8014-9dbf77176119",
   "metadata": {},
   "outputs": [
    {
     "data": {
      "text/html": [
       "'/Users/andrewlu/Dropbox/Documents/Labowitz/Scripts/AcousticTransf'"
      ],
      "text/latex": [
       "'/Users/andrewlu/Dropbox/Documents/Labowitz/Scripts/AcousticTransf'"
      ],
      "text/markdown": [
       "'/Users/andrewlu/Dropbox/Documents/Labowitz/Scripts/AcousticTransf'"
      ],
      "text/plain": [
       "[1] \"/Users/andrewlu/Dropbox/Documents/Labowitz/Scripts/AcousticTransf\""
      ]
     },
     "metadata": {},
     "output_type": "display_data"
    }
   ],
   "source": [
    "getwd()"
   ]
  },
  {
   "cell_type": "code",
   "execution_count": 7,
   "id": "ad5fa888-307d-4484-92c6-8969c66cdc91",
   "metadata": {},
   "outputs": [
    {
     "name": "stderr",
     "output_type": "stream",
     "text": [
      "\u001b[1m\u001b[22m\u001b[36mℹ\u001b[39m Updating \u001b[34mAcousticTransf\u001b[39m documentation\n",
      "\u001b[1m\u001b[22m\u001b[36mℹ\u001b[39m Loading \u001b[34mAcousticTransf\u001b[39m\n"
     ]
    }
   ],
   "source": [
    "devtools::document()"
   ]
  },
  {
   "cell_type": "code",
   "execution_count": 30,
   "id": "72dd1cee-df03-428f-829b-0b368e2e502c",
   "metadata": {},
   "outputs": [
    {
     "name": "stderr",
     "output_type": "stream",
     "text": [
      "\u001b[1m\u001b[22m\u001b[36mℹ\u001b[39m Loading \u001b[34mAcousticTransf\u001b[39m\n"
     ]
    }
   ],
   "source": [
    "devtools::load_all()"
   ]
  },
  {
   "cell_type": "code",
   "execution_count": null,
   "id": "c982730f-61a9-41f1-95bc-5b0a4a598bb8",
   "metadata": {},
   "outputs": [],
   "source": []
  }
 ],
 "metadata": {
  "kernelspec": {
   "display_name": "R",
   "language": "R",
   "name": "ir"
  },
  "language_info": {
   "codemirror_mode": "r",
   "file_extension": ".r",
   "mimetype": "text/x-r-source",
   "name": "R",
   "pygments_lexer": "r",
   "version": "4.1.3"
  }
 },
 "nbformat": 4,
 "nbformat_minor": 5
}
