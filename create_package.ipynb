{
 "cells": [
  {
   "cell_type": "code",
   "execution_count": 1,
   "id": "ba0c61be-6e4a-49e1-a4f5-69bf9c8b378d",
   "metadata": {},
   "outputs": [],
   "source": [
    "# devtools::create(\"AcousticTransf\")\n",
    "# use_git()"
   ]
  },
  {
   "cell_type": "code",
   "execution_count": null,
   "id": "433abf8a-feec-4b86-86f3-ff6cdcdd1122",
   "metadata": {},
   "outputs": [
    {
     "name": "stderr",
     "output_type": "stream",
     "text": [
      "Loading required package: usethis\n",
      "\n"
     ]
    }
   ],
   "source": [
    "library(devtools)"
   ]
  },
  {
   "cell_type": "code",
   "execution_count": null,
   "id": "9d5443d7-a3e2-4092-8014-9dbf77176119",
   "metadata": {},
   "outputs": [],
   "source": [
    "getwd()"
   ]
  },
  {
   "cell_type": "code",
   "execution_count": null,
   "id": "ad5fa888-307d-4484-92c6-8969c66cdc91",
   "metadata": {},
   "outputs": [],
   "source": [
    "devtools::document()"
   ]
  },
  {
   "cell_type": "code",
   "execution_count": null,
   "id": "72dd1cee-df03-428f-829b-0b368e2e502c",
   "metadata": {},
   "outputs": [],
   "source": [
    "### for testing, just running this loads into environemtn (but will delete when kernel closed)\n",
    "devtools::load_all()"
   ]
  },
  {
   "cell_type": "code",
   "execution_count": null,
   "id": "be31c846-34de-4e54-81b6-7ea9dd00bc65",
   "metadata": {},
   "outputs": [],
   "source": []
  },
  {
   "cell_type": "code",
   "execution_count": null,
   "id": "c982730f-61a9-41f1-95bc-5b0a4a598bb8",
   "metadata": {},
   "outputs": [],
   "source": [
    "devtools::install()"
   ]
  },
  {
   "cell_type": "code",
   "execution_count": null,
   "id": "dfbeaefb-dbc8-4bcf-a80e-4f175daa957d",
   "metadata": {},
   "outputs": [],
   "source": [
    "print(\"done!!!\")"
   ]
  },
  {
   "cell_type": "code",
   "execution_count": null,
   "id": "49cdc548-16ca-4f8e-8ee1-6ebbfe459aae",
   "metadata": {},
   "outputs": [],
   "source": []
  }
 ],
 "metadata": {
  "kernelspec": {
   "display_name": "R",
   "language": "R",
   "name": "ir"
  },
  "language_info": {
   "codemirror_mode": "r",
   "file_extension": ".r",
   "mimetype": "text/x-r-source",
   "name": "R",
   "pygments_lexer": "r",
   "version": "4.1.3"
  }
 },
 "nbformat": 4,
 "nbformat_minor": 5
}
